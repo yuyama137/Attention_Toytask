{
 "cells": [
  {
   "cell_type": "code",
   "execution_count": 12,
   "id": "0a94467e",
   "metadata": {},
   "outputs": [
    {
     "data": {
      "text/plain": [
       "[tensor([[0.9438, 0.5266, 0.9796],\n",
       "         [0.6996, 0.8280, 0.4730]]),\n",
       " tensor([[0.0375, 0.5305, 0.7122],\n",
       "         [0.3722, 0.3672, 0.9000]])]"
      ]
     },
     "execution_count": 12,
     "metadata": {},
     "output_type": "execute_result"
    }
   ],
   "source": [
    "import torch\n",
    "data1 = torch.rand(2,3)\n",
    "data2 = torch.rand(2,3)\n",
    "out2 = [data1, data2]\n",
    "out2"
   ]
  },
  {
   "cell_type": "code",
   "execution_count": 19,
   "id": "1be51403",
   "metadata": {},
   "outputs": [
    {
     "data": {
      "text/plain": [
       "tensor([[0.9438, 0.5266, 0.9796],\n",
       "        [0.6996, 0.8280, 0.4730]])"
      ]
     },
     "execution_count": 19,
     "metadata": {},
     "output_type": "execute_result"
    }
   ],
   "source": [
    "# def test(out):\n",
    "#     return *out\n",
    "\n",
    "a, b = out2\n",
    "a"
   ]
  },
  {
   "cell_type": "code",
   "execution_count": 16,
   "id": "6c291af4",
   "metadata": {},
   "outputs": [
    {
     "name": "stdout",
     "output_type": "stream",
     "text": [
      "tensor([[0.9438, 0.5266, 0.9796],\n",
      "        [0.6996, 0.8280, 0.4730]]) tensor([[0.0375, 0.5305, 0.7122],\n",
      "        [0.3722, 0.3672, 0.9000]])\n"
     ]
    }
   ],
   "source": [
    "print(*out2)"
   ]
  },
  {
   "cell_type": "code",
   "execution_count": 29,
   "id": "0d9b931f",
   "metadata": {},
   "outputs": [
    {
     "data": {
      "text/plain": [
       "(tensor([[[ 0,  1,  2],\n",
       "          [ 6,  7,  8],\n",
       "          [12, 13, 14]],\n",
       " \n",
       "         [[18, 19, 20],\n",
       "          [24, 25, 26],\n",
       "          [30, 31, 32]]]),\n",
       " tensor([[[ 3,  4,  5],\n",
       "          [ 9, 10, 11],\n",
       "          [15, 16, 17]],\n",
       " \n",
       "         [[21, 22, 23],\n",
       "          [27, 28, 29],\n",
       "          [33, 34, 35]]]))"
      ]
     },
     "execution_count": 29,
     "metadata": {},
     "output_type": "execute_result"
    }
   ],
   "source": [
    "data = torch.arange(36).reshape(2,3,6)\n",
    "torch.chunk(data, 2, dim=2)"
   ]
  },
  {
   "cell_type": "code",
   "execution_count": 28,
   "id": "d7ec8698",
   "metadata": {},
   "outputs": [
    {
     "data": {
      "text/plain": [
       "tensor([[[ 0,  1,  2,  3,  4,  5],\n",
       "         [ 6,  7,  8,  9, 10, 11],\n",
       "         [12, 13, 14, 15, 16, 17]],\n",
       "\n",
       "        [[18, 19, 20, 21, 22, 23],\n",
       "         [24, 25, 26, 27, 28, 29],\n",
       "         [30, 31, 32, 33, 34, 35]]])"
      ]
     },
     "execution_count": 28,
     "metadata": {},
     "output_type": "execute_result"
    }
   ],
   "source": [
    "data"
   ]
  },
  {
   "cell_type": "code",
   "execution_count": null,
   "id": "d530ef01",
   "metadata": {},
   "outputs": [],
   "source": []
  }
 ],
 "metadata": {
  "kernelspec": {
   "display_name": "Python 3",
   "language": "python",
   "name": "python3"
  },
  "language_info": {
   "codemirror_mode": {
    "name": "ipython",
    "version": 3
   },
   "file_extension": ".py",
   "mimetype": "text/x-python",
   "name": "python",
   "nbconvert_exporter": "python",
   "pygments_lexer": "ipython3",
   "version": "3.6.13"
  }
 },
 "nbformat": 4,
 "nbformat_minor": 5
}
