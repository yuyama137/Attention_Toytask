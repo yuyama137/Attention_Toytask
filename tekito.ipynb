{
 "cells": [
  {
   "cell_type": "code",
   "execution_count": 1,
   "id": "180cfb47",
   "metadata": {},
   "outputs": [],
   "source": [
    "import torch\n",
    "from torch import nn, einsum\n",
    "def split_at_index(dim, index, t):\n",
    "    pre_slices = (slice(None),) * dim\n",
    "    l = (*pre_slices, slice(None, index))\n",
    "    r = (*pre_slices, slice(index, None))\n",
    "    return t[l], t[r]\n",
    "\n",
    "def exists(val):\n",
    "    return val is not None\n",
    "\n",
    "def default(value, d):\n",
    "    return d if not exists(value) else value"
   ]
  },
  {
   "cell_type": "code",
   "execution_count": 27,
   "id": "87d98c85",
   "metadata": {},
   "outputs": [],
   "source": [
    "# どうやら本当にlinear attentionをやっていそう。\n",
    "# ただし、関数φは論文のものと違うものを利用していそう。\n",
    "def causal_linear_attn(q, k, v, kv_mask = None, bucket_size = None, eps = 1e-6):\n",
    "    b, h, n, e, dtype = *q.shape, q.dtype\n",
    "    bucket_size = default(bucket_size, 64)\n",
    "    bucket_size = max(bucket_size, 1)\n",
    "    assert bucket_size == 0 or (n % bucket_size) == 0, f'sequence length {n} must be divisible by the bucket size {bucket_size} for causal linear attention'\n",
    "    \n",
    "    ## 論文のφにあたる非線形関数\n",
    "    q = q.softmax(dim=-1)\n",
    "    k = torch.exp(k).type(dtype).clone()\n",
    "\n",
    "    q = q * e ** -0.5\n",
    "    ## ここまで。\n",
    "    ## ちょっと違う。。。。\n",
    "\n",
    "#     if exists(kv_mask):\n",
    "#         mask = kv_mask[:, None, :, None]\n",
    "#         k = k.masked_fill_(~mask, 0.)\n",
    "#         v = v.masked_fill_(~mask, 0.)\n",
    "#         del mask\n",
    "\n",
    "    bucket_fn = lambda x: x.reshape(*x.shape[:-2], -1, bucket_size, e)# batch, headを固定、時間方向を調整してbucketをつくる\n",
    "                                                                                                      # いい感じに時間をbucket_sizeごとに区切る\n",
    "    b_q, b_k, b_v = map(bucket_fn, (q, k, v))\n",
    "\n",
    "    b_k_sum = b_k.sum(dim=-2) # bucket_size = 1 の時、b_k_sum == kになる。\n",
    "    b_k_cumsum = b_k_sum.cumsum(dim = -2).type(dtype)# 時間方向の累積和\n",
    "\n",
    "    context = einsum('bhund,bhune->bhude', b_k, b_v)\n",
    "    context = context.cumsum(dim = -3).type(dtype)# 時間方向に累積和\n",
    "\n",
    "#     if bucket_size > 1:\n",
    "#         context = F.pad(context, (0, 0, 0, 0, 1, 0), value = 0.)\n",
    "#         context, _ = split_at_index(2, -1, context)\n",
    "\n",
    "#         b_k_cumsum = F.pad(b_k_cumsum, (0, 0, 1, 0), value = 0.)\n",
    "#         b_k_cumsum, _ = split_at_index(2, -1, b_k_cumsum)\n",
    "\n",
    "    D_inv = 1. / einsum('bhud,bhund->bhun', b_k_cumsum + eps, b_q)\n",
    "    attn = einsum('bhund,bhude,bhun->bhune', b_q, context, D_inv)\n",
    "    import pdb; pdb.set_trace()\n",
    "    return attn.reshape(*q.shape)# bucket_sizeをもとに戻してreturn"
   ]
  },
  {
   "cell_type": "code",
   "execution_count": 28,
   "id": "903440e8",
   "metadata": {},
   "outputs": [],
   "source": [
    "B, H, N, D = 3, 4, 10, 16\n",
    "\n",
    "q = torch.rand(B, H, N, D)\n",
    "k = torch.rand(B, H, N, D)\n",
    "v = torch.rand(B, H, N, D)"
   ]
  },
  {
   "cell_type": "code",
   "execution_count": 29,
   "id": "806e52a5",
   "metadata": {},
   "outputs": [
    {
     "name": "stdout",
     "output_type": "stream",
     "text": [
      "> \u001b[0;32m<ipython-input-27-a47355b9a274>\u001b[0m(38)\u001b[0;36mcausal_linear_attn\u001b[0;34m()\u001b[0m\n",
      "\u001b[0;32m     34 \u001b[0;31m\u001b[0;34m\u001b[0m\u001b[0m\n",
      "\u001b[0m\u001b[0;32m     35 \u001b[0;31m    \u001b[0mD_inv\u001b[0m \u001b[0;34m=\u001b[0m \u001b[0;36m1.\u001b[0m \u001b[0;34m/\u001b[0m \u001b[0meinsum\u001b[0m\u001b[0;34m(\u001b[0m\u001b[0;34m'bhud,bhund->bhun'\u001b[0m\u001b[0;34m,\u001b[0m \u001b[0mb_k_cumsum\u001b[0m \u001b[0;34m+\u001b[0m \u001b[0meps\u001b[0m\u001b[0;34m,\u001b[0m \u001b[0mb_q\u001b[0m\u001b[0;34m)\u001b[0m\u001b[0;34m\u001b[0m\u001b[0;34m\u001b[0m\u001b[0m\n",
      "\u001b[0m\u001b[0;32m     36 \u001b[0;31m    \u001b[0mattn\u001b[0m \u001b[0;34m=\u001b[0m \u001b[0meinsum\u001b[0m\u001b[0;34m(\u001b[0m\u001b[0;34m'bhund,bhude,bhun->bhune'\u001b[0m\u001b[0;34m,\u001b[0m \u001b[0mb_q\u001b[0m\u001b[0;34m,\u001b[0m \u001b[0mcontext\u001b[0m\u001b[0;34m,\u001b[0m \u001b[0mD_inv\u001b[0m\u001b[0;34m)\u001b[0m\u001b[0;34m\u001b[0m\u001b[0;34m\u001b[0m\u001b[0m\n",
      "\u001b[0m\u001b[0;32m     37 \u001b[0;31m    \u001b[0;32mimport\u001b[0m \u001b[0mpdb\u001b[0m\u001b[0;34m;\u001b[0m \u001b[0mpdb\u001b[0m\u001b[0;34m.\u001b[0m\u001b[0mset_trace\u001b[0m\u001b[0;34m(\u001b[0m\u001b[0;34m)\u001b[0m\u001b[0;34m\u001b[0m\u001b[0;34m\u001b[0m\u001b[0m\n",
      "\u001b[0m\u001b[0;32m---> 38 \u001b[0;31m    \u001b[0;32mreturn\u001b[0m \u001b[0mattn\u001b[0m\u001b[0;34m.\u001b[0m\u001b[0mreshape\u001b[0m\u001b[0;34m(\u001b[0m\u001b[0;34m*\u001b[0m\u001b[0mq\u001b[0m\u001b[0;34m.\u001b[0m\u001b[0mshape\u001b[0m\u001b[0;34m)\u001b[0m\u001b[0;34m\u001b[0m\u001b[0;34m\u001b[0m\u001b[0m\n",
      "\u001b[0m\n",
      "ipdb> attn.shape\n",
      "torch.Size([3, 4, 10, 1, 16])\n",
      "ipdb> p q.shape\n",
      "torch.Size([3, 4, 10, 16])\n",
      "ipdb> q\n"
     ]
    },
    {
     "ename": "BdbQuit",
     "evalue": "",
     "output_type": "error",
     "traceback": [
      "\u001b[0;31m---------------------------------------------------------------------------\u001b[0m",
      "\u001b[0;31mBdbQuit\u001b[0m                                   Traceback (most recent call last)",
      "\u001b[0;32m<ipython-input-29-3c2d7c19ee87>\u001b[0m in \u001b[0;36m<module>\u001b[0;34m\u001b[0m\n\u001b[0;32m----> 1\u001b[0;31m \u001b[0mcausal_linear_attn\u001b[0m\u001b[0;34m(\u001b[0m\u001b[0mq\u001b[0m\u001b[0;34m,\u001b[0m \u001b[0mk\u001b[0m\u001b[0;34m,\u001b[0m \u001b[0mv\u001b[0m\u001b[0;34m,\u001b[0m \u001b[0mbucket_size\u001b[0m\u001b[0;34m=\u001b[0m\u001b[0;36m1\u001b[0m\u001b[0;34m)\u001b[0m\u001b[0;34m.\u001b[0m\u001b[0mshape\u001b[0m\u001b[0;34m\u001b[0m\u001b[0;34m\u001b[0m\u001b[0m\n\u001b[0m",
      "\u001b[0;32m<ipython-input-27-a47355b9a274>\u001b[0m in \u001b[0;36mcausal_linear_attn\u001b[0;34m(q, k, v, kv_mask, bucket_size, eps)\u001b[0m\n\u001b[1;32m     36\u001b[0m     \u001b[0mattn\u001b[0m \u001b[0;34m=\u001b[0m \u001b[0meinsum\u001b[0m\u001b[0;34m(\u001b[0m\u001b[0;34m'bhund,bhude,bhun->bhune'\u001b[0m\u001b[0;34m,\u001b[0m \u001b[0mb_q\u001b[0m\u001b[0;34m,\u001b[0m \u001b[0mcontext\u001b[0m\u001b[0;34m,\u001b[0m \u001b[0mD_inv\u001b[0m\u001b[0;34m)\u001b[0m\u001b[0;34m\u001b[0m\u001b[0;34m\u001b[0m\u001b[0m\n\u001b[1;32m     37\u001b[0m     \u001b[0;32mimport\u001b[0m \u001b[0mpdb\u001b[0m\u001b[0;34m;\u001b[0m \u001b[0mpdb\u001b[0m\u001b[0;34m.\u001b[0m\u001b[0mset_trace\u001b[0m\u001b[0;34m(\u001b[0m\u001b[0;34m)\u001b[0m\u001b[0;34m\u001b[0m\u001b[0;34m\u001b[0m\u001b[0m\n\u001b[0;32m---> 38\u001b[0;31m     \u001b[0;32mreturn\u001b[0m \u001b[0mattn\u001b[0m\u001b[0;34m.\u001b[0m\u001b[0mreshape\u001b[0m\u001b[0;34m(\u001b[0m\u001b[0;34m*\u001b[0m\u001b[0mq\u001b[0m\u001b[0;34m.\u001b[0m\u001b[0mshape\u001b[0m\u001b[0;34m)\u001b[0m\u001b[0;34m\u001b[0m\u001b[0;34m\u001b[0m\u001b[0m\n\u001b[0m",
      "\u001b[0;32m<ipython-input-27-a47355b9a274>\u001b[0m in \u001b[0;36mcausal_linear_attn\u001b[0;34m(q, k, v, kv_mask, bucket_size, eps)\u001b[0m\n\u001b[1;32m     36\u001b[0m     \u001b[0mattn\u001b[0m \u001b[0;34m=\u001b[0m \u001b[0meinsum\u001b[0m\u001b[0;34m(\u001b[0m\u001b[0;34m'bhund,bhude,bhun->bhune'\u001b[0m\u001b[0;34m,\u001b[0m \u001b[0mb_q\u001b[0m\u001b[0;34m,\u001b[0m \u001b[0mcontext\u001b[0m\u001b[0;34m,\u001b[0m \u001b[0mD_inv\u001b[0m\u001b[0;34m)\u001b[0m\u001b[0;34m\u001b[0m\u001b[0;34m\u001b[0m\u001b[0m\n\u001b[1;32m     37\u001b[0m     \u001b[0;32mimport\u001b[0m \u001b[0mpdb\u001b[0m\u001b[0;34m;\u001b[0m \u001b[0mpdb\u001b[0m\u001b[0;34m.\u001b[0m\u001b[0mset_trace\u001b[0m\u001b[0;34m(\u001b[0m\u001b[0;34m)\u001b[0m\u001b[0;34m\u001b[0m\u001b[0;34m\u001b[0m\u001b[0m\n\u001b[0;32m---> 38\u001b[0;31m     \u001b[0;32mreturn\u001b[0m \u001b[0mattn\u001b[0m\u001b[0;34m.\u001b[0m\u001b[0mreshape\u001b[0m\u001b[0;34m(\u001b[0m\u001b[0;34m*\u001b[0m\u001b[0mq\u001b[0m\u001b[0;34m.\u001b[0m\u001b[0mshape\u001b[0m\u001b[0;34m)\u001b[0m\u001b[0;34m\u001b[0m\u001b[0;34m\u001b[0m\u001b[0m\n\u001b[0m",
      "\u001b[0;32m~/opt/anaconda3/envs/LTVC_env_3/lib/python3.6/bdb.py\u001b[0m in \u001b[0;36mtrace_dispatch\u001b[0;34m(self, frame, event, arg)\u001b[0m\n\u001b[1;32m     49\u001b[0m             \u001b[0;32mreturn\u001b[0m \u001b[0;31m# None\u001b[0m\u001b[0;34m\u001b[0m\u001b[0;34m\u001b[0m\u001b[0m\n\u001b[1;32m     50\u001b[0m         \u001b[0;32mif\u001b[0m \u001b[0mevent\u001b[0m \u001b[0;34m==\u001b[0m \u001b[0;34m'line'\u001b[0m\u001b[0;34m:\u001b[0m\u001b[0;34m\u001b[0m\u001b[0;34m\u001b[0m\u001b[0m\n\u001b[0;32m---> 51\u001b[0;31m             \u001b[0;32mreturn\u001b[0m \u001b[0mself\u001b[0m\u001b[0;34m.\u001b[0m\u001b[0mdispatch_line\u001b[0m\u001b[0;34m(\u001b[0m\u001b[0mframe\u001b[0m\u001b[0;34m)\u001b[0m\u001b[0;34m\u001b[0m\u001b[0;34m\u001b[0m\u001b[0m\n\u001b[0m\u001b[1;32m     52\u001b[0m         \u001b[0;32mif\u001b[0m \u001b[0mevent\u001b[0m \u001b[0;34m==\u001b[0m \u001b[0;34m'call'\u001b[0m\u001b[0;34m:\u001b[0m\u001b[0;34m\u001b[0m\u001b[0;34m\u001b[0m\u001b[0m\n\u001b[1;32m     53\u001b[0m             \u001b[0;32mreturn\u001b[0m \u001b[0mself\u001b[0m\u001b[0;34m.\u001b[0m\u001b[0mdispatch_call\u001b[0m\u001b[0;34m(\u001b[0m\u001b[0mframe\u001b[0m\u001b[0;34m,\u001b[0m \u001b[0marg\u001b[0m\u001b[0;34m)\u001b[0m\u001b[0;34m\u001b[0m\u001b[0;34m\u001b[0m\u001b[0m\n",
      "\u001b[0;32m~/opt/anaconda3/envs/LTVC_env_3/lib/python3.6/bdb.py\u001b[0m in \u001b[0;36mdispatch_line\u001b[0;34m(self, frame)\u001b[0m\n\u001b[1;32m     68\u001b[0m         \u001b[0;32mif\u001b[0m \u001b[0mself\u001b[0m\u001b[0;34m.\u001b[0m\u001b[0mstop_here\u001b[0m\u001b[0;34m(\u001b[0m\u001b[0mframe\u001b[0m\u001b[0;34m)\u001b[0m \u001b[0;32mor\u001b[0m \u001b[0mself\u001b[0m\u001b[0;34m.\u001b[0m\u001b[0mbreak_here\u001b[0m\u001b[0;34m(\u001b[0m\u001b[0mframe\u001b[0m\u001b[0;34m)\u001b[0m\u001b[0;34m:\u001b[0m\u001b[0;34m\u001b[0m\u001b[0;34m\u001b[0m\u001b[0m\n\u001b[1;32m     69\u001b[0m             \u001b[0mself\u001b[0m\u001b[0;34m.\u001b[0m\u001b[0muser_line\u001b[0m\u001b[0;34m(\u001b[0m\u001b[0mframe\u001b[0m\u001b[0;34m)\u001b[0m\u001b[0;34m\u001b[0m\u001b[0;34m\u001b[0m\u001b[0m\n\u001b[0;32m---> 70\u001b[0;31m             \u001b[0;32mif\u001b[0m \u001b[0mself\u001b[0m\u001b[0;34m.\u001b[0m\u001b[0mquitting\u001b[0m\u001b[0;34m:\u001b[0m \u001b[0;32mraise\u001b[0m \u001b[0mBdbQuit\u001b[0m\u001b[0;34m\u001b[0m\u001b[0;34m\u001b[0m\u001b[0m\n\u001b[0m\u001b[1;32m     71\u001b[0m         \u001b[0;32mreturn\u001b[0m \u001b[0mself\u001b[0m\u001b[0;34m.\u001b[0m\u001b[0mtrace_dispatch\u001b[0m\u001b[0;34m\u001b[0m\u001b[0;34m\u001b[0m\u001b[0m\n\u001b[1;32m     72\u001b[0m \u001b[0;34m\u001b[0m\u001b[0m\n",
      "\u001b[0;31mBdbQuit\u001b[0m: "
     ]
    }
   ],
   "source": [
    "causal_linear_attn(q, k, v, bucket_size=1).shape"
   ]
  },
  {
   "cell_type": "code",
   "execution_count": 7,
   "id": "2882c32c",
   "metadata": {},
   "outputs": [
    {
     "data": {
      "text/plain": [
       "tensor([[[[0.7670, 0.0000, 0.0000, 0.0000, 0.0000],\n",
       "          [0.3722, 0.3847, 0.0000, 0.0000, 0.0000],\n",
       "          [0.1686, 0.1331, 0.8143, 0.0000, 0.0000],\n",
       "          [0.5201, 0.9998, 0.7648, 0.5760, 0.0000],\n",
       "          [0.7237, 0.6929, 0.8208, 0.2476, 0.0573]],\n",
       "\n",
       "         [[0.5167, 0.0000, 0.0000, 0.0000, 0.0000],\n",
       "          [0.4855, 0.6765, 0.0000, 0.0000, 0.0000],\n",
       "          [0.9214, 0.0434, 0.1406, 0.0000, 0.0000],\n",
       "          [0.7855, 0.0215, 0.2152, 0.0228, 0.0000],\n",
       "          [0.5312, 0.2002, 0.1534, 0.8580, 0.7065]],\n",
       "\n",
       "         [[0.5660, 0.0000, 0.0000, 0.0000, 0.0000],\n",
       "          [0.7247, 0.6455, 0.0000, 0.0000, 0.0000],\n",
       "          [0.1308, 0.8853, 0.9953, 0.0000, 0.0000],\n",
       "          [0.2020, 0.6613, 0.0810, 0.0269, 0.0000],\n",
       "          [0.8137, 0.5448, 0.9166, 0.7249, 0.6837]],\n",
       "\n",
       "         [[0.0574, 0.0000, 0.0000, 0.0000, 0.0000],\n",
       "          [0.7372, 0.7714, 0.0000, 0.0000, 0.0000],\n",
       "          [0.8085, 0.1648, 0.6225, 0.0000, 0.0000],\n",
       "          [0.0596, 0.0167, 0.7961, 0.7025, 0.0000],\n",
       "          [0.9899, 0.9259, 0.6808, 0.9720, 0.1673]]],\n",
       "\n",
       "\n",
       "        [[[0.6839, 0.0000, 0.0000, 0.0000, 0.0000],\n",
       "          [0.7353, 0.2211, 0.0000, 0.0000, 0.0000],\n",
       "          [0.6205, 0.9292, 0.6499, 0.0000, 0.0000],\n",
       "          [0.1713, 0.1668, 0.0830, 0.5736, 0.0000],\n",
       "          [0.7760, 0.0396, 0.3766, 0.9313, 0.8961]],\n",
       "\n",
       "         [[0.6218, 0.0000, 0.0000, 0.0000, 0.0000],\n",
       "          [0.0045, 0.0390, 0.0000, 0.0000, 0.0000],\n",
       "          [0.6361, 0.4651, 0.3072, 0.0000, 0.0000],\n",
       "          [0.2288, 0.8666, 0.7374, 0.5349, 0.0000],\n",
       "          [0.1716, 0.3299, 0.6476, 0.3531, 0.8802]],\n",
       "\n",
       "         [[0.1843, 0.0000, 0.0000, 0.0000, 0.0000],\n",
       "          [0.3180, 0.5940, 0.0000, 0.0000, 0.0000],\n",
       "          [0.9453, 0.7435, 0.3356, 0.0000, 0.0000],\n",
       "          [0.8120, 0.6154, 0.9930, 0.8719, 0.0000],\n",
       "          [0.7157, 0.6181, 0.7929, 0.8125, 0.5344]],\n",
       "\n",
       "         [[0.8606, 0.0000, 0.0000, 0.0000, 0.0000],\n",
       "          [0.3935, 0.0510, 0.0000, 0.0000, 0.0000],\n",
       "          [0.6092, 0.1706, 0.2817, 0.0000, 0.0000],\n",
       "          [0.8252, 0.1081, 0.5617, 0.1354, 0.0000],\n",
       "          [0.8868, 0.8438, 0.5656, 0.8654, 0.7505]]],\n",
       "\n",
       "\n",
       "        [[[0.7654, 0.0000, 0.0000, 0.0000, 0.0000],\n",
       "          [0.7609, 0.7154, 0.0000, 0.0000, 0.0000],\n",
       "          [0.0033, 0.6804, 0.9413, 0.0000, 0.0000],\n",
       "          [0.1738, 0.0556, 0.5528, 0.1259, 0.0000],\n",
       "          [0.3250, 0.4442, 0.3645, 0.8961, 0.8909]],\n",
       "\n",
       "         [[0.9151, 0.0000, 0.0000, 0.0000, 0.0000],\n",
       "          [0.4359, 0.7798, 0.0000, 0.0000, 0.0000],\n",
       "          [0.0536, 0.2735, 0.4875, 0.0000, 0.0000],\n",
       "          [0.3402, 0.5374, 0.7187, 0.4603, 0.0000],\n",
       "          [0.8038, 0.1367, 0.6750, 0.6873, 0.7492]],\n",
       "\n",
       "         [[0.8894, 0.0000, 0.0000, 0.0000, 0.0000],\n",
       "          [0.3039, 0.8522, 0.0000, 0.0000, 0.0000],\n",
       "          [0.2936, 0.9904, 0.3585, 0.0000, 0.0000],\n",
       "          [0.8503, 0.7411, 0.9512, 0.3708, 0.0000],\n",
       "          [0.0944, 0.4733, 0.5668, 0.9900, 0.5131]],\n",
       "\n",
       "         [[0.8043, 0.0000, 0.0000, 0.0000, 0.0000],\n",
       "          [0.3394, 0.3313, 0.0000, 0.0000, 0.0000],\n",
       "          [0.3538, 0.2996, 0.9566, 0.0000, 0.0000],\n",
       "          [0.0471, 0.9112, 0.3052, 0.6967, 0.0000],\n",
       "          [0.3442, 0.2684, 0.0282, 0.6925, 0.3277]]]])"
      ]
     },
     "execution_count": 7,
     "metadata": {},
     "output_type": "execute_result"
    }
   ],
   "source": [
    "a = torch.rand(3,4,5,5)\n",
    "torch.tril(a)"
   ]
  },
  {
   "cell_type": "code",
   "execution_count": 5,
   "id": "3dab2d70",
   "metadata": {},
   "outputs": [
    {
     "data": {
      "text/plain": [
       "torch.Size([3, 4, 32, 64])"
      ]
     },
     "execution_count": 5,
     "metadata": {},
     "output_type": "execute_result"
    }
   ],
   "source": [
    "B, h, N_q, d, N_k = 3, 4, 32, 256, 64\n",
    "q = torch.rand(B, h, N_q, d)\n",
    "k = torch.rand(B, h, N_k, d)\n",
    "torch.einsum(\"bhqd,bhkd->bhqk\", q, k).shape"
   ]
  },
  {
   "cell_type": "code",
   "execution_count": 9,
   "id": "7502f611",
   "metadata": {},
   "outputs": [
    {
     "data": {
      "text/plain": [
       "tensor([[[0.3551, 0.6449],\n",
       "         [0.4360, 0.5640],\n",
       "         [0.6850, 0.3150],\n",
       "         [0.4151, 0.5849],\n",
       "         [0.6779, 0.3221]],\n",
       "\n",
       "        [[0.5647, 0.4353],\n",
       "         [0.6017, 0.3983],\n",
       "         [0.4974, 0.5026],\n",
       "         [0.6586, 0.3414],\n",
       "         [0.4476, 0.5524]],\n",
       "\n",
       "        [[0.5124, 0.4876],\n",
       "         [0.4971, 0.5029],\n",
       "         [0.3747, 0.6253],\n",
       "         [0.4854, 0.5146],\n",
       "         [0.3768, 0.6232]]])"
      ]
     },
     "execution_count": 9,
     "metadata": {},
     "output_type": "execute_result"
    }
   ],
   "source": [
    "import torch.nn.functional as F\n",
    "data = torch.rand(3, 5, 2)\n",
    "F.softmax(data, dim=-1)"
   ]
  },
  {
   "cell_type": "code",
   "execution_count": null,
   "id": "a3a44b62",
   "metadata": {},
   "outputs": [],
   "source": []
  },
  {
   "cell_type": "code",
   "execution_count": null,
   "id": "8779c772",
   "metadata": {},
   "outputs": [],
   "source": []
  },
  {
   "cell_type": "code",
   "execution_count": null,
   "id": "6fbbf9cd",
   "metadata": {},
   "outputs": [],
   "source": []
  },
  {
   "cell_type": "code",
   "execution_count": null,
   "id": "65e5e7ea",
   "metadata": {},
   "outputs": [],
   "source": []
  },
  {
   "cell_type": "code",
   "execution_count": null,
   "id": "5518265a",
   "metadata": {},
   "outputs": [],
   "source": []
  },
  {
   "cell_type": "code",
   "execution_count": null,
   "id": "f3d9e692",
   "metadata": {},
   "outputs": [],
   "source": []
  },
  {
   "cell_type": "code",
   "execution_count": null,
   "id": "40141bde",
   "metadata": {},
   "outputs": [],
   "source": []
  },
  {
   "cell_type": "code",
   "execution_count": null,
   "id": "bd73096f",
   "metadata": {},
   "outputs": [],
   "source": []
  },
  {
   "cell_type": "code",
   "execution_count": null,
   "id": "4b574c67",
   "metadata": {},
   "outputs": [],
   "source": []
  },
  {
   "cell_type": "code",
   "execution_count": null,
   "id": "8012dbfa",
   "metadata": {},
   "outputs": [],
   "source": []
  },
  {
   "cell_type": "code",
   "execution_count": null,
   "id": "b8f803bd",
   "metadata": {},
   "outputs": [],
   "source": []
  }
 ],
 "metadata": {
  "kernelspec": {
   "display_name": "Python 3",
   "language": "python",
   "name": "python3"
  },
  "language_info": {
   "codemirror_mode": {
    "name": "ipython",
    "version": 3
   },
   "file_extension": ".py",
   "mimetype": "text/x-python",
   "name": "python",
   "nbconvert_exporter": "python",
   "pygments_lexer": "ipython3",
   "version": "3.6.13"
  }
 },
 "nbformat": 4,
 "nbformat_minor": 5
}
